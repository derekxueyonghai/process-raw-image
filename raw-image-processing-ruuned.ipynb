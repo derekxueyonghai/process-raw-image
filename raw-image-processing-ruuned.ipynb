{
 "cells": [
  {
   "cell_type": "markdown",
   "metadata": {
    "_uuid": "4ea4fd85eaa8e21a1edf6cbb8f79e0b6496952c1"
   },
   "source": [
    "# Python RAW image processing\n",
    "This notebook has the basic purpose to illustrate how to read a RAW image and to edit it using some well-known python libraries. Maybe next versions of this kernel may include other basic functions (translated from C old code). "
   ]
  },
  {
   "cell_type": "markdown",
   "metadata": {
    "_uuid": "c5570480d77727fe9e63f39e2b2c873a6d073892"
   },
   "source": [
    "### I. Libraries and methods  \n",
    "The lines below import some python libraries developed for image processing."
   ]
  },
  {
   "cell_type": "code",
   "execution_count": 2,
   "metadata": {
    "tags": []
   },
   "outputs": [
    {
     "name": "stdout",
     "output_type": "stream",
     "text": [
      "Looking in indexes: https://pypi.org/simple, https://pip.repos.neuron.amazonaws.com\n",
      "Collecting scikit-image\n",
      "  Downloading scikit_image-0.19.3-cp37-cp37m-manylinux_2_12_x86_64.manylinux2010_x86_64.whl (13.5 MB)\n",
      "\u001b[2K     \u001b[90m━━━━━━━━━━━━━━━━━━━━━━━━━━━━━━━━━━━━━━━━\u001b[0m \u001b[32m13.5/13.5 MB\u001b[0m \u001b[31m26.1 MB/s\u001b[0m eta \u001b[36m0:00:00\u001b[0m00:01\u001b[0m00:01\u001b[0m\n",
      "\u001b[?25hRequirement already satisfied: imageio>=2.4.1 in /home/ec2-user/anaconda3/envs/amazonei_pytorch_latest_p37/lib/python3.7/site-packages (from scikit-image) (2.24.0)\n",
      "Collecting tifffile>=2019.7.26\n",
      "  Downloading tifffile-2021.11.2-py3-none-any.whl (178 kB)\n",
      "\u001b[2K     \u001b[90m━━━━━━━━━━━━━━━━━━━━━━━━━━━━━━━━━━━━━━\u001b[0m \u001b[32m178.9/178.9 kB\u001b[0m \u001b[31m24.0 MB/s\u001b[0m eta \u001b[36m0:00:00\u001b[0m\n",
      "\u001b[?25hCollecting PyWavelets>=1.1.1\n",
      "  Downloading PyWavelets-1.3.0-cp37-cp37m-manylinux_2_5_x86_64.manylinux1_x86_64.manylinux_2_12_x86_64.manylinux2010_x86_64.whl (6.4 MB)\n",
      "\u001b[2K     \u001b[90m━━━━━━━━━━━━━━━━━━━━━━━━━━━━━━━━━━━━━━━━\u001b[0m \u001b[32m6.4/6.4 MB\u001b[0m \u001b[31m32.1 MB/s\u001b[0m eta \u001b[36m0:00:00\u001b[0m:00:01\u001b[0m00:01\u001b[0m\n",
      "\u001b[?25hCollecting networkx>=2.2\n",
      "  Downloading networkx-2.6.3-py3-none-any.whl (1.9 MB)\n",
      "\u001b[2K     \u001b[90m━━━━━━━━━━━━━━━━━━━━━━━━━━━━━━━━━━━━━━━━\u001b[0m \u001b[32m1.9/1.9 MB\u001b[0m \u001b[31m70.3 MB/s\u001b[0m eta \u001b[36m0:00:00\u001b[0m\n",
      "\u001b[?25hRequirement already satisfied: packaging>=20.0 in /home/ec2-user/anaconda3/envs/amazonei_pytorch_latest_p37/lib/python3.7/site-packages (from scikit-image) (21.3)\n",
      "Requirement already satisfied: numpy>=1.17.0 in /home/ec2-user/anaconda3/envs/amazonei_pytorch_latest_p37/lib/python3.7/site-packages (from scikit-image) (1.21.6)\n",
      "Requirement already satisfied: scipy>=1.4.1 in /home/ec2-user/anaconda3/envs/amazonei_pytorch_latest_p37/lib/python3.7/site-packages (from scikit-image) (1.7.3)\n",
      "Requirement already satisfied: pillow!=7.1.0,!=7.1.1,!=8.3.0,>=6.1.0 in /home/ec2-user/anaconda3/envs/amazonei_pytorch_latest_p37/lib/python3.7/site-packages (from scikit-image) (9.4.0)\n",
      "Requirement already satisfied: pyparsing!=3.0.5,>=2.0.2 in /home/ec2-user/anaconda3/envs/amazonei_pytorch_latest_p37/lib/python3.7/site-packages (from packaging>=20.0->scikit-image) (3.0.9)\n",
      "Installing collected packages: tifffile, PyWavelets, networkx, scikit-image\n",
      "Successfully installed PyWavelets-1.3.0 networkx-2.6.3 scikit-image-0.19.3 tifffile-2021.11.2\n"
     ]
    }
   ],
   "source": [
    "!pip install scikit-image"
   ]
  },
  {
   "cell_type": "code",
   "execution_count": 4,
   "metadata": {
    "tags": []
   },
   "outputs": [
    {
     "name": "stdout",
     "output_type": "stream",
     "text": [
      "Looking in indexes: https://pypi.org/simple, https://pip.repos.neuron.amazonaws.com\n",
      "Collecting rawpy\n",
      "  Downloading rawpy-0.18.0-cp37-cp37m-manylinux_2_17_x86_64.manylinux2014_x86_64.whl (1.9 MB)\n",
      "\u001b[2K     \u001b[90m━━━━━━━━━━━━━━━━━━━━━━━━━━━━━━━━━━━━━━━━\u001b[0m \u001b[32m1.9/1.9 MB\u001b[0m \u001b[31m18.8 MB/s\u001b[0m eta \u001b[36m0:00:00\u001b[0m00:01\u001b[0m\n",
      "\u001b[?25hRequirement already satisfied: numpy in /home/ec2-user/anaconda3/envs/amazonei_pytorch_latest_p37/lib/python3.7/site-packages (from rawpy) (1.21.6)\n",
      "Installing collected packages: rawpy\n",
      "Successfully installed rawpy-0.18.0\n"
     ]
    }
   ],
   "source": [
    "!pip install rawpy"
   ]
  },
  {
   "cell_type": "code",
   "execution_count": 5,
   "metadata": {
    "_uuid": "f1743315dcac8d1799b3e174aeb1cb399dd30f90",
    "tags": []
   },
   "outputs": [
    {
     "name": "stderr",
     "output_type": "stream",
     "text": [
      "Matplotlib is building the font cache; this may take a moment.\n"
     ]
    }
   ],
   "source": [
    "# Mathmatics libraries\n",
    "import numpy as np\n",
    "import math\n",
    "\n",
    "# Image Processing libraries\n",
    "import skimage\n",
    "from skimage import exposure\n",
    "\n",
    "import scipy.misc as misc\n",
    "\n",
    "import rawpy\n",
    "import imageio\n",
    "\n",
    "# Visual and plotting libraries\n",
    "import matplotlib.pyplot as plt"
   ]
  },
  {
   "cell_type": "markdown",
   "metadata": {
    "_uuid": "c33ca3ff128d56e9f7d04326e68ea20d73e83a1d"
   },
   "source": [
    "## II. Reading a RAW image (CR2)\n",
    "The CR2 file stands for Canon Raw Image, which is not a pure raw image but also includes some metadata. There are plenty of already implemented code to read raw data in Python and, in the case of a CR2 file, to parse its metadata. The code I'm implementing here is based on https://stackoverflow.com/questions/2422050/raw-image-processing-in-python."
   ]
  },
  {
   "cell_type": "code",
   "execution_count": 6,
   "metadata": {
    "_uuid": "0583a069cdcb6790f52f4b2b910b5ac9f29420ff",
    "tags": []
   },
   "outputs": [],
   "source": [
    "## Reading a RAW file:\n",
    "rawImg = rawpy.imread('IMG_0978.CR2')"
   ]
  },
  {
   "cell_type": "markdown",
   "metadata": {
    "_uuid": "9696931fff7217d41ffffae596ceff7bfaff9d52"
   },
   "source": [
    "The next line (commented) was suppose to post-process the RAW image into a numpy.array. Here, due to some Kaggle limitation it was not possible to run without the \"unsuficient memory\" error. In a local kernel, though, please uncomment the first line below and remove the *rgbImg = rawImg.raw_image_visible* statement. "
   ]
  },
  {
   "cell_type": "code",
   "execution_count": 7,
   "metadata": {
    "_uuid": "3310ee22fc29c41335cbfba58fd596b22d7d9745",
    "tags": []
   },
   "outputs": [],
   "source": [
    "#rgbImg = rawImg.postprocess()\n",
    "rgbImg = rawImg.raw_image_visible"
   ]
  },
  {
   "cell_type": "markdown",
   "metadata": {
    "_uuid": "71673d6571f209db000e8ac440f40416e5682ec4"
   },
   "source": [
    "Here the image was already read. It's interesting to notice that in image processing a image is considered as a matrix. In python, the simplest way to represent it is using a numpy.array type, as confirmed below:"
   ]
  },
  {
   "cell_type": "code",
   "execution_count": 8,
   "metadata": {
    "_uuid": "36fad736c2adc02cca0d04d8195ab3a373e93677",
    "tags": []
   },
   "outputs": [
    {
     "data": {
      "text/plain": [
       "numpy.ndarray"
      ]
     },
     "execution_count": 8,
     "metadata": {},
     "output_type": "execute_result"
    }
   ],
   "source": [
    "type(rgbImg)"
   ]
  },
  {
   "cell_type": "markdown",
   "metadata": {
    "_uuid": "65b3df5f1dda52dba734b69c2a7ce4aed2a6802e"
   },
   "source": [
    "Now it would be useful to define a function to show the image we have read:"
   ]
  },
  {
   "cell_type": "code",
   "execution_count": 9,
   "metadata": {
    "_uuid": "3f718d48679ba0566d2959470c629139d4e85fdf",
    "tags": []
   },
   "outputs": [],
   "source": [
    "def basic_showImg(img, size=4):\n",
    "    '''Shows an image in a numpy.array type. Syntax:\n",
    "        basic_showImg(img, size=4), where\n",
    "            img = image numpy.array;\n",
    "            size = the size to show the image. Its value is 4 by default.\n",
    "    '''\n",
    "    plt.figure(figsize=(size,size))\n",
    "    plt.imshow(img)\n",
    "    plt.show()"
   ]
  },
  {
   "cell_type": "markdown",
   "metadata": {
    "_uuid": "78a6d58868b09d9298bcdf5ac6f3e27bbf33e114"
   },
   "source": [
    "Once we define our \"showing function\", let's see what we have loaded:"
   ]
  },
  {
   "cell_type": "code",
   "execution_count": null,
   "metadata": {
    "_uuid": "defa2399042a255cb15ae68b2c2850772c459ae2"
   },
   "outputs": [],
   "source": [
    "basic_showImg(rgbImg,8)"
   ]
  },
  {
   "cell_type": "markdown",
   "metadata": {
    "_uuid": "3149bb47028608d7ba62d36d3a58cc14e70ccfec"
   },
   "source": [
    "## III. Exposure editing"
   ]
  },
  {
   "cell_type": "markdown",
   "metadata": {
    "_uuid": "3d037afa39d276942e94c9d3f16a544cf410ca65"
   },
   "source": [
    "### Gamma correction\n",
    "The code in this section performs *gamma adjustment* using the *scikit-image* library. A brief explanation on gamma attribute on images can be found in https://en.wikipedia.org/wiki/Gamma_correction. In general, gamma values greater than 1 will shift the image histogram towards left and the output image will be darker than the input image. On the other hand, for gamma values less than 1, the histogram will shift towards right and the output image will be brighter than the input image."
   ]
  },
  {
   "cell_type": "code",
   "execution_count": null,
   "metadata": {
    "_uuid": "3c67ef798e7c583b3f4b271c134a7f45f3c60084"
   },
   "outputs": [],
   "source": [
    "# Gamma adjustment\n",
    "gamma_corrected = exposure.adjust_gamma(rgbImg, gamma=0.5, gain=1)"
   ]
  },
  {
   "cell_type": "code",
   "execution_count": null,
   "metadata": {
    "_uuid": "f1d5514ff6c0cfc3337bf5145d570564882d61ea"
   },
   "outputs": [],
   "source": [
    "basic_showImg(gamma_corrected,8)"
   ]
  },
  {
   "cell_type": "markdown",
   "metadata": {
    "_uuid": "4a04a60ba274e1abdacd52d44894e536092499de"
   },
   "source": [
    "### Histogram equalization\n",
    "Histogram equalization is usually applied to adjust contrast in a given image before other editions or processing. There are plenty of techniques to deal with RGB images or gray scaled images. In this example I will not take it into account, appying the histogram equalization for a flattened image (i.e. all three channels combined). More details can be found in https://en.wikipedia.org/wiki/Histogram_equalization."
   ]
  },
  {
   "cell_type": "code",
   "execution_count": null,
   "metadata": {
    "_uuid": "c678c8f92c72a8f00f426d4aa315e029a803c985"
   },
   "outputs": [],
   "source": [
    "# Histogram equalization\n",
    "hist_equalized = exposure.equalize_hist(rgbImg)"
   ]
  },
  {
   "cell_type": "code",
   "execution_count": null,
   "metadata": {
    "_uuid": "e0072c4e635940527fc454895ff71c181a357d42"
   },
   "outputs": [],
   "source": [
    "basic_showImg(hist_equalized,8)"
   ]
  },
  {
   "cell_type": "markdown",
   "metadata": {
    "_uuid": "b5dbc242ad163a688325524ab600751e89e7cdd9"
   },
   "source": [
    "## IV. Exporting an image\n",
    "Since your edition is finished, you can export your image to different formats. There are several libraries for this. I do prefer imageio since it supports many image formats, as detailed in http://imageio.readthedocs.io/en/stable/formats.html."
   ]
  },
  {
   "cell_type": "code",
   "execution_count": null,
   "metadata": {
    "_uuid": "a86f071ba74302e95b44321a9575eed6514f542d"
   },
   "outputs": [],
   "source": [
    "def basic_writeImg(directory, filename, img):\n",
    "    imageio.imwrite(directory+filename, img)"
   ]
  },
  {
   "cell_type": "code",
   "execution_count": null,
   "metadata": {
    "_uuid": "e787227a20443865155d7038b5701ef9b49e5044"
   },
   "outputs": [],
   "source": [
    "basic_writeImg('','edited_img.png', hist_equalized)"
   ]
  },
  {
   "cell_type": "code",
   "execution_count": null,
   "metadata": {
    "_uuid": "60f0578cfe3d31b41dbf14727abe8c470436fc38"
   },
   "outputs": [],
   "source": []
  }
 ],
 "metadata": {
  "kernelspec": {
   "display_name": "conda_amazonei_pytorch_latest_p37",
   "language": "python",
   "name": "conda_amazonei_pytorch_latest_p37"
  },
  "language_info": {
   "codemirror_mode": {
    "name": "ipython",
    "version": 3
   },
   "file_extension": ".py",
   "mimetype": "text/x-python",
   "name": "python",
   "nbconvert_exporter": "python",
   "pygments_lexer": "ipython3",
   "version": "3.7.10"
  }
 },
 "nbformat": 4,
 "nbformat_minor": 4
}
